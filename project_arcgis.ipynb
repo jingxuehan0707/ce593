{
 "cells": [
  {
   "cell_type": "markdown",
   "metadata": {},
   "source": [
    "# GIS Visualization"
   ]
  },
  {
   "cell_type": "code",
   "execution_count": 85,
   "metadata": {},
   "outputs": [],
   "source": [
    "import pandas as pd\n",
    "import json\n",
    "import numpy as np\n",
    "from datetime import datetime\n",
    "from arcgis.gis import GIS\n",
    "from arcgis.features import GeoAccessor, GeoSeriesAccessor\n",
    "from arcgis.map.renderers import ClassBreaksRenderer\n"
   ]
  },
  {
   "cell_type": "markdown",
   "metadata": {},
   "source": [
    "## Explore the statioin feature class"
   ]
  },
  {
   "cell_type": "code",
   "execution_count": 127,
   "metadata": {},
   "outputs": [
    {
     "name": "stdout",
     "output_type": "stream",
     "text": [
      "Please sign in to your GIS and paste the code that is obtained below.\n",
      "If a web browser does not automatically open, please navigate to the URL below yourself instead.\n",
      "Opening web browser to navigate to: https://osugisci.maps.arcgis.com/sharing/rest/oauth2/authorize?response_type=code&client_id=CA3qUoQUpiBSGf7x&redirect_uri=urn%3Aietf%3Awg%3Aoauth%3A2.0%3Aoob&state=IGnrEN6nlhdAisBnXs3ENTjZZMRjcF&allow_verification=false\n"
     ]
    }
   ],
   "source": [
    "gis = GIS('https://osugisci.maps.arcgis.com/home', client_id='CA3qUoQUpiBSGf7x')"
   ]
  },
  {
   "cell_type": "code",
   "execution_count": 87,
   "metadata": {},
   "outputs": [
    {
     "data": {
      "text/plain": [
       "[<Item title:\"Inventory_SR91\" type:Feature Layer Collection owner:jingx@oregonstate.edu_OSUGISci>]"
      ]
     },
     "execution_count": 87,
     "metadata": {},
     "output_type": "execute_result"
    }
   ],
   "source": [
    "# Search for content\n",
    "search_text = 'title: Inventory_SR91 AND owner: jingx@oregonstate.edu_OSUGISci AND type: \"Feature Service\"'\n",
    "search_result = gis.content.search(search_text)\n",
    "search_result"
   ]
  },
  {
   "cell_type": "code",
   "execution_count": 88,
   "metadata": {},
   "outputs": [
    {
     "data": {
      "text/html": [
       "<div class=\"item_container\" style=\"height: auto; overflow: hidden; border: 1px solid #cfcfcf; border-radius: 2px; background: #f6fafa; line-height: 1.21429em; padding: 10px;\">\n",
       "                    <div class=\"item_left\" style=\"width: 210px; float: left;\">\n",
       "                       <a href='https://OSUGISci.maps.arcgis.com/home/item.html?id=a69e0d749ba6469c9bfec4ea4a7f2a4b' target='_blank'>\n",
       "                        <img src='data:image/png;base64,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' width='200' height='133' class=\"itemThumbnail\">\n",
       "                       </a>\n",
       "                    </div>\n",
       "\n",
       "                    <div class=\"item_right\"     style=\"float: none; width: auto; overflow: hidden;\">\n",
       "                        <a href='https://OSUGISci.maps.arcgis.com/home/item.html?id=a69e0d749ba6469c9bfec4ea4a7f2a4b' target='_blank'><b>Inventory_SR91</b>\n",
       "                        </a>\n",
       "                        <br/><br/><img src='https://OSUGISci.maps.arcgis.com/home/js/jsapi/esri/css/images/item_type_icons/featureshosted16.png' style=\"vertical-align:middle;\" width=16 height=16>Feature Layer Collection by jingx@oregonstate.edu_OSUGISci\n",
       "                        <br/>Last Modified: November 23, 2024\n",
       "                        <br/>0 comments, 98 views\n",
       "                    </div>\n",
       "                </div>\n",
       "                "
      ],
      "text/plain": [
       "<Item title:\"Inventory_SR91\" type:Feature Layer Collection owner:jingx@oregonstate.edu_OSUGISci>"
      ]
     },
     "execution_count": 88,
     "metadata": {},
     "output_type": "execute_result"
    }
   ],
   "source": [
    "# Access the first item that is returned\n",
    "sr_91_inventory = search_result[0]\n",
    "sr_91_inventory"
   ]
  },
  {
   "cell_type": "code",
   "execution_count": 89,
   "metadata": {},
   "outputs": [
    {
     "data": {
      "text/plain": [
       "<FeatureLayer url:\"https://services1.arcgis.com/CD5mKowwN6nIaqd8/arcgis/rest/services/Inventory_SR91/FeatureServer/0\">"
      ]
     },
     "execution_count": 89,
     "metadata": {},
     "output_type": "execute_result"
    }
   ],
   "source": [
    "# Access the first layer of the item\n",
    "sr_91_layer = sr_91_inventory.layers[0]\n",
    "sr_91_layer"
   ]
  },
  {
   "cell_type": "code",
   "execution_count": 90,
   "metadata": {},
   "outputs": [
    {
     "data": {
      "text/plain": [
       "0      73\n",
       "1      25\n",
       "2      16\n",
       "3      32\n",
       "4      11\n",
       "       ..\n",
       "106    63\n",
       "107    40\n",
       "108    52\n",
       "109     2\n",
       "110    62\n",
       "Name: real_time_speed, Length: 111, dtype: int64"
      ]
     },
     "execution_count": 90,
     "metadata": {},
     "output_type": "execute_result"
    }
   ],
   "source": [
    "# Convert the layer to a pandas dataframe\n",
    "sr_91_df = pd.DataFrame.spatial.from_layer(sr_91_layer)\n",
    "sr_91_df['real_time_speed'].apply(lambda x: np.random.randint(0, 81))"
   ]
  },
  {
   "cell_type": "markdown",
   "metadata": {},
   "source": [
    "# Explore the zone reading"
   ]
  },
  {
   "cell_type": "code",
   "execution_count": 107,
   "metadata": {},
   "outputs": [
    {
     "data": {
      "text/html": [
       "<div>\n",
       "<style scoped>\n",
       "    .dataframe tbody tr th:only-of-type {\n",
       "        vertical-align: middle;\n",
       "    }\n",
       "\n",
       "    .dataframe tbody tr th {\n",
       "        vertical-align: top;\n",
       "    }\n",
       "\n",
       "    .dataframe thead th {\n",
       "        text-align: right;\n",
       "    }\n",
       "</style>\n",
       "<table border=\"1\" class=\"dataframe\">\n",
       "  <thead>\n",
       "    <tr style=\"text-align: right;\">\n",
       "      <th></th>\n",
       "      <th>zone_id</th>\n",
       "      <th>date</th>\n",
       "      <th>speed</th>\n",
       "      <th>latitude</th>\n",
       "      <th>longitude</th>\n",
       "      <th>SHAPE</th>\n",
       "    </tr>\n",
       "  </thead>\n",
       "  <tbody>\n",
       "    <tr>\n",
       "      <th>0</th>\n",
       "      <td>3262</td>\n",
       "      <td>2017-09-07T04:00:00</td>\n",
       "      <td>9.909091</td>\n",
       "      <td>27.764868</td>\n",
       "      <td>-80.954325</td>\n",
       "      <td>{\"x\": -9011794.236513175, \"y\": 3219361.2370909...</td>\n",
       "    </tr>\n",
       "    <tr>\n",
       "      <th>30</th>\n",
       "      <td>3262</td>\n",
       "      <td>2017-09-07T04:30:00</td>\n",
       "      <td>33.951220</td>\n",
       "      <td>27.764868</td>\n",
       "      <td>-80.954325</td>\n",
       "      <td>{\"x\": -9011794.236513175, \"y\": 3219361.2370909...</td>\n",
       "    </tr>\n",
       "    <tr>\n",
       "      <th>60</th>\n",
       "      <td>3262</td>\n",
       "      <td>2017-09-07T05:00:00</td>\n",
       "      <td>49.788462</td>\n",
       "      <td>27.764868</td>\n",
       "      <td>-80.954325</td>\n",
       "      <td>{\"x\": -9011794.236513175, \"y\": 3219361.2370909...</td>\n",
       "    </tr>\n",
       "    <tr>\n",
       "      <th>90</th>\n",
       "      <td>3262</td>\n",
       "      <td>2017-09-07T05:30:00</td>\n",
       "      <td>65.521739</td>\n",
       "      <td>27.764868</td>\n",
       "      <td>-80.954325</td>\n",
       "      <td>{\"x\": -9011794.236513175, \"y\": 3219361.2370909...</td>\n",
       "    </tr>\n",
       "    <tr>\n",
       "      <th>120</th>\n",
       "      <td>3262</td>\n",
       "      <td>2017-09-07T06:00:00</td>\n",
       "      <td>35.928571</td>\n",
       "      <td>27.764868</td>\n",
       "      <td>-80.954325</td>\n",
       "      <td>{\"x\": -9011794.236513175, \"y\": 3219361.2370909...</td>\n",
       "    </tr>\n",
       "  </tbody>\n",
       "</table>\n",
       "</div>"
      ],
      "text/plain": [
       "     zone_id                 date      speed   latitude  longitude  \\\n",
       "0       3262  2017-09-07T04:00:00   9.909091  27.764868 -80.954325   \n",
       "30      3262  2017-09-07T04:30:00  33.951220  27.764868 -80.954325   \n",
       "60      3262  2017-09-07T05:00:00  49.788462  27.764868 -80.954325   \n",
       "90      3262  2017-09-07T05:30:00  65.521739  27.764868 -80.954325   \n",
       "120     3262  2017-09-07T06:00:00  35.928571  27.764868 -80.954325   \n",
       "\n",
       "                                                 SHAPE  \n",
       "0    {\"x\": -9011794.236513175, \"y\": 3219361.2370909...  \n",
       "30   {\"x\": -9011794.236513175, \"y\": 3219361.2370909...  \n",
       "60   {\"x\": -9011794.236513175, \"y\": 3219361.2370909...  \n",
       "90   {\"x\": -9011794.236513175, \"y\": 3219361.2370909...  \n",
       "120  {\"x\": -9011794.236513175, \"y\": 3219361.2370909...  "
      ]
     },
     "execution_count": 107,
     "metadata": {},
     "output_type": "execute_result"
    }
   ],
   "source": [
    "# Read zone readings\n",
    "zone_readings_df = pd.read_csv('SR_91_Bottleneck_B_150-200/Zone_Readings_0907-0908.csv')\n",
    "# Rename columns\n",
    "zone_readings_df = zone_readings_df.rename(columns={'measurement_start': 'date'})\n",
    "# Merge zone readings with the inventory\n",
    "zone_readings_df = zone_readings_df.merge(sr_91_df, on='zone_id')\n",
    "zone_readings_df = zone_readings_df[['zone_id', 'date', 'speed', 'latitude', 'longitude', 'SHAPE']]\n",
    "# Convert date to datetime\n",
    "zone_readings_df['date'] = pd.to_datetime(zone_readings_df['date'])\n",
    "zone_readings_df['date'] = zone_readings_df['date'].dt.floor('min')\n",
    "# Create a date range, 2017/09/07 - 2017/09/09, 30 minute interval.\n",
    "date_range = pd.date_range(start='2017/09/07', end='2017/09/09', freq='30min', tz='US/Eastern')\n",
    "# Selecte only the date range from the zone readings\n",
    "zone_readings_df = zone_readings_df[zone_readings_df['date'].isin(date_range)]\n",
    "# Convert date to datetime, and convert to UTC, format YYYY/MM/DD HH:MM:SS\n",
    "zone_readings_df['date'] = zone_readings_df['date'].dt.tz_convert('UTC')\n",
    "zone_readings_df['date'] = zone_readings_df['date'].dt.tz_localize(None)\n",
    "zone_readings_df['date'] = zone_readings_df['date'].dt.strftime('%Y-%m-%dT%H:%M:%S')\n",
    "\n",
    "zone_readings_df.head()\n"
   ]
  },
  {
   "cell_type": "code",
   "execution_count": 108,
   "metadata": {},
   "outputs": [],
   "source": [
    "# Set geometry\n",
    "zone_readings_df.spatial.set_geometry('SHAPE')\n",
    "\n",
    "# Publish the zone readings to a feature layer\n",
    "optional_params = {'overwrite': True, 'service':  {'featureServiceId' : '6c3702f7621b46d18aaeeea1c3fc9ac6', 'layer': 0}}\n",
    "zone_readings_item = zone_readings_df.spatial.to_featurelayer(title='SR91_Zone_Readings', \n",
    "                                                              gis=gis, \n",
    "                                                              folder='ce593',\n",
    "                                                              **optional_params)\n",
    "                                                              "
   ]
  },
  {
   "cell_type": "code",
   "execution_count": 129,
   "metadata": {},
   "outputs": [
    {
     "data": {
      "text/plain": [
       "<FeatureLayer url:\"https://services1.arcgis.com/CD5mKowwN6nIaqd8/arcgis/rest/services/SR91_Zone_Readings/FeatureServer/0\">"
      ]
     },
     "execution_count": 129,
     "metadata": {},
     "output_type": "execute_result"
    }
   ],
   "source": [
    "# Search for content\n",
    "search_text = 'title: SR91_Zone_Readings AND owner: jingx@oregonstate.edu_OSUGISci AND type: \"Feature Service\"'\n",
    "search_result = gis.content.search(search_text)\n",
    "# Access the first item that is returned\n",
    "zone_readings_item = search_result[0]\n",
    "# Access the first layer of the item\n",
    "zone_readings_layer = zone_readings_item.layers[0]\n",
    "\n",
    "zone_readings_layer"
   ]
  },
  {
   "cell_type": "markdown",
   "metadata": {},
   "source": [
    "# Display web map"
   ]
  },
  {
   "cell_type": "code",
   "execution_count": 130,
   "metadata": {},
   "outputs": [
    {
     "data": {
      "application/vnd.jupyter.widget-view+json": {
       "model_id": "d20257588a2c4a68b3a8106136b69925",
       "version_major": 2,
       "version_minor": 1
      },
      "text/plain": [
       "Map(extent={'type': 'extent', 'xmin': -17999999.999996353, 'ymin': -11999999.999994533, 'xmax': 17999999.99999…"
      ]
     },
     "execution_count": 130,
     "metadata": {},
     "output_type": "execute_result"
    }
   ],
   "source": [
    "web_map =gis.map()\n",
    "web_map"
   ]
  },
  {
   "cell_type": "code",
   "execution_count": 139,
   "metadata": {},
   "outputs": [],
   "source": [
    "# Set basemap\n",
    "web_map.zoom = 10\n",
    "web_map.center = [27.5,-80.7]\n",
    "web_map.basemap.basemap = 'dark-gray-vector'"
   ]
  },
  {
   "cell_type": "code",
   "execution_count": null,
   "metadata": {},
   "outputs": [],
   "source": [
    "# Get renderer\n",
    "with open('item_data.json', 'r') as file:\n",
    "    item_data = json.load(file)\n",
    "    # drawing_info = item_data['layers'][0]['layerDefinition']['drawingInfo']\n",
    "    renderer = item_data['layers'][0]['layerDefinition']['drawingInfo']['renderer']\n",
    "class_breaks_renderer = ClassBreaksRenderer(**renderer)\n",
    "\n",
    "# Plot the data using renderer\n",
    "# sr_91_df.spatial.plot(map_widget=web_map, renderer=class_breaks_renderer)\n",
    "web_map.content.add(zone_readings_layer, drawing_info={'renderer': class_breaks_renderer})\n",
    "# #ffffff, #FC6600, #FB9900, #FFCD00, #FEFE07, #88B336, #039B01\n",
    "\n",
    "# Enable time slider\n",
    "start_time = datetime(2017, 9, 7, 4, 0, 0)\n",
    "end_time = datetime(2017, 9, 9, 4, 0, 0)\n",
    "web_map.time_slider.enabled = True    \n",
    "time_interval = {\"value\":1, \"units\":\"hours\"}\n",
    "web_map.time_slider.time_extent(start_time=start_time, end_time=end_time, time_interval=time_interval)\n"
   ]
  },
  {
   "cell_type": "code",
   "execution_count": 146,
   "metadata": {},
   "outputs": [
    {
     "data": {
      "application/vnd.jupyter.widget-view+json": {
       "model_id": "d20257588a2c4a68b3a8106136b69925",
       "version_major": 2,
       "version_minor": 1
      },
      "text/plain": [
       "Map(center=[-80.69999999999864, 27.499999999999535], extent={'spatialReference': {'latestWkid': 3857, 'wkid': …"
      ]
     },
     "execution_count": 146,
     "metadata": {},
     "output_type": "execute_result"
    }
   ],
   "source": [
    "web_map"
   ]
  }
 ],
 "metadata": {
  "kernelspec": {
   "display_name": "esri",
   "language": "python",
   "name": "python3"
  },
  "language_info": {
   "codemirror_mode": {
    "name": "ipython",
    "version": 3
   },
   "file_extension": ".py",
   "mimetype": "text/x-python",
   "name": "python",
   "nbconvert_exporter": "python",
   "pygments_lexer": "ipython3",
   "version": "3.12.7"
  }
 },
 "nbformat": 4,
 "nbformat_minor": 2
}
