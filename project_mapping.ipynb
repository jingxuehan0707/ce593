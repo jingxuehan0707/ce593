{
 "cells": [
  {
   "cell_type": "markdown",
   "metadata": {},
   "source": [
    "# Explore data"
   ]
  },
  {
   "cell_type": "code",
   "execution_count": 1,
   "metadata": {},
   "outputs": [],
   "source": [
    "import pandas as pd\n",
    "import geopandas as gpd\n",
    "import matplotlib.pyplot as plt\n",
    "from shapely.geometry import Point, LineString\n",
    "import zipfile\n",
    "import os\n",
    "import cv2"
   ]
  },
  {
   "cell_type": "code",
   "execution_count": 2,
   "metadata": {},
   "outputs": [],
   "source": [
    "sr_91_dir = 'SR_91_Bottleneck_B_150-200'\n",
    "zone_readings_path = sr_91_dir + '/Zone_Readings_0907-0908.csv'\n",
    "station_sr91_path = sr_91_dir + '/Inventory.csv'"
   ]
  },
  {
   "cell_type": "code",
   "execution_count": 3,
   "metadata": {},
   "outputs": [],
   "source": [
    "zone_readings = pd.read_csv(zone_readings_path)\n",
    "station_sr91 = pd.read_csv(station_sr91_path)"
   ]
  },
  {
   "cell_type": "code",
   "execution_count": 4,
   "metadata": {},
   "outputs": [],
   "source": [
    "# station_sr91_gdf = gpd.GeoDataFrame(station_sr91, geometry=gpd.points_from_xy(station_sr91.longitude, station_sr91.latitude))\n",
    "# station_sr91_gdf.crs = {'init': 'epsg:4326'}\n",
    "# station_sr91_gdf.to_file(sr_91_dir + '/Inventory.shp')\n",
    "\n",
    "# # Compress the shapefile\n",
    "# with zipfile.ZipFile(sr_91_dir + '/Inventory.zip', 'w') as z:\n",
    "#     z.write(sr_91_dir + '/Inventory.shp')\n",
    "#     z.write(sr_91_dir + '/Inventory.cpg')\n",
    "#     z.write(sr_91_dir + '/Inventory.dbf')\n",
    "#     z.write(sr_91_dir + '/Inventory.prj')\n",
    "#     z.write(sr_91_dir + '/Inventory.shx')\n"
   ]
  },
  {
   "cell_type": "code",
   "execution_count": 5,
   "metadata": {},
   "outputs": [
    {
     "data": {
      "text/plain": [
       "Index(['zone_id', 'measurement_start', 'speed', 'volume', 'occupancy',\n",
       "       'quality'],\n",
       "      dtype='object')"
      ]
     },
     "execution_count": 5,
     "metadata": {},
     "output_type": "execute_result"
    }
   ],
   "source": [
    "zone_readings.columns"
   ]
  },
  {
   "cell_type": "code",
   "execution_count": 6,
   "metadata": {},
   "outputs": [],
   "source": [
    "# rename 'measurement_start' to 'datetime'\n",
    "zone_readings.rename(columns={'measurement_start': 'datetime'}, inplace=True)"
   ]
  },
  {
   "cell_type": "code",
   "execution_count": 7,
   "metadata": {},
   "outputs": [],
   "source": [
    "# Join the zone_readings and station_sr91, based on the 'zone_id' column\n",
    "zone_readings = zone_readings.merge(station_sr91, on='zone_id')\n",
    "zone_readings = zone_readings[['zone_id','datetime', 'speed', 'latitude', 'longitude']]"
   ]
  },
  {
   "cell_type": "code",
   "execution_count": 8,
   "metadata": {},
   "outputs": [],
   "source": [
    "# Create a GeoDataFrame from the zone_readings\n",
    "zone_readings_gdf = gpd.GeoDataFrame(zone_readings, geometry=gpd.points_from_xy(zone_readings.longitude, zone_readings.latitude))"
   ]
  },
  {
   "cell_type": "code",
   "execution_count": 9,
   "metadata": {},
   "outputs": [
    {
     "name": "stderr",
     "output_type": "stream",
     "text": [
      "/var/folders/6g/xqgvnv4s1h95kfz0bd14h3_h0000gn/T/ipykernel_65224/332595671.py:3: FutureWarning: 'T' is deprecated and will be removed in a future version, please use 'min' instead.\n",
      "  zone_readings_gdf['datetime'] = zone_readings_gdf['datetime'].dt.floor('T')\n"
     ]
    },
    {
     "data": {
      "text/html": [
       "<div>\n",
       "<style scoped>\n",
       "    .dataframe tbody tr th:only-of-type {\n",
       "        vertical-align: middle;\n",
       "    }\n",
       "\n",
       "    .dataframe tbody tr th {\n",
       "        vertical-align: top;\n",
       "    }\n",
       "\n",
       "    .dataframe thead th {\n",
       "        text-align: right;\n",
       "    }\n",
       "</style>\n",
       "<table border=\"1\" class=\"dataframe\">\n",
       "  <thead>\n",
       "    <tr style=\"text-align: right;\">\n",
       "      <th></th>\n",
       "      <th>zone_id</th>\n",
       "      <th>datetime</th>\n",
       "      <th>speed</th>\n",
       "      <th>latitude</th>\n",
       "      <th>longitude</th>\n",
       "      <th>geometry</th>\n",
       "    </tr>\n",
       "  </thead>\n",
       "  <tbody>\n",
       "    <tr>\n",
       "      <th>0</th>\n",
       "      <td>3262</td>\n",
       "      <td>2017-09-07 00:00:00-04:00</td>\n",
       "      <td>9.909091</td>\n",
       "      <td>27.764868</td>\n",
       "      <td>-80.954325</td>\n",
       "      <td>POINT (-80.95432 27.76487)</td>\n",
       "    </tr>\n",
       "    <tr>\n",
       "      <th>1</th>\n",
       "      <td>3262</td>\n",
       "      <td>2017-09-07 00:01:00-04:00</td>\n",
       "      <td>12.238095</td>\n",
       "      <td>27.764868</td>\n",
       "      <td>-80.954325</td>\n",
       "      <td>POINT (-80.95432 27.76487)</td>\n",
       "    </tr>\n",
       "    <tr>\n",
       "      <th>2</th>\n",
       "      <td>3262</td>\n",
       "      <td>2017-09-07 00:02:00-04:00</td>\n",
       "      <td>13.565217</td>\n",
       "      <td>27.764868</td>\n",
       "      <td>-80.954325</td>\n",
       "      <td>POINT (-80.95432 27.76487)</td>\n",
       "    </tr>\n",
       "    <tr>\n",
       "      <th>3</th>\n",
       "      <td>3262</td>\n",
       "      <td>2017-09-07 00:03:00-04:00</td>\n",
       "      <td>21.894737</td>\n",
       "      <td>27.764868</td>\n",
       "      <td>-80.954325</td>\n",
       "      <td>POINT (-80.95432 27.76487)</td>\n",
       "    </tr>\n",
       "    <tr>\n",
       "      <th>4</th>\n",
       "      <td>3262</td>\n",
       "      <td>2017-09-07 00:04:00-04:00</td>\n",
       "      <td>27.585366</td>\n",
       "      <td>27.764868</td>\n",
       "      <td>-80.954325</td>\n",
       "      <td>POINT (-80.95432 27.76487)</td>\n",
       "    </tr>\n",
       "  </tbody>\n",
       "</table>\n",
       "</div>"
      ],
      "text/plain": [
       "   zone_id                  datetime      speed   latitude  longitude  \\\n",
       "0     3262 2017-09-07 00:00:00-04:00   9.909091  27.764868 -80.954325   \n",
       "1     3262 2017-09-07 00:01:00-04:00  12.238095  27.764868 -80.954325   \n",
       "2     3262 2017-09-07 00:02:00-04:00  13.565217  27.764868 -80.954325   \n",
       "3     3262 2017-09-07 00:03:00-04:00  21.894737  27.764868 -80.954325   \n",
       "4     3262 2017-09-07 00:04:00-04:00  27.585366  27.764868 -80.954325   \n",
       "\n",
       "                     geometry  \n",
       "0  POINT (-80.95432 27.76487)  \n",
       "1  POINT (-80.95432 27.76487)  \n",
       "2  POINT (-80.95432 27.76487)  \n",
       "3  POINT (-80.95432 27.76487)  \n",
       "4  POINT (-80.95432 27.76487)  "
      ]
     },
     "execution_count": 9,
     "metadata": {},
     "output_type": "execute_result"
    }
   ],
   "source": [
    "# Change datetime to datetime object, ignore the timezone\n",
    "zone_readings_gdf['datetime'] = pd.to_datetime(zone_readings_gdf['datetime'])\n",
    "zone_readings_gdf['datetime'] = zone_readings_gdf['datetime'].dt.floor('T')\n",
    "zone_readings_gdf.head(5)"
   ]
  },
  {
   "cell_type": "markdown",
   "metadata": {},
   "source": [
    "# Use the plot"
   ]
  },
  {
   "cell_type": "code",
   "execution_count": 10,
   "metadata": {},
   "outputs": [],
   "source": [
    "# Generate time samples, in 'US/Eastern'.\n",
    "time_samples = pd.date_range(start='2017-09-07 00:00:00', end='2017-09-08 23:59:00', freq='5min', tz='US/Eastern')\n",
    "# time_samples\n",
    "\n",
    "# Make directory for images\n",
    "os.makedirs('img', exist_ok=True)\n",
    "\n",
    "for time_sample in time_samples:\n",
    "    # Filter the zone_readings_gdf for the time_sample\n",
    "    zone_readings_gdf_sample = zone_readings_gdf[zone_readings_gdf['datetime'] == time_sample]\n",
    "\n",
    "    # Create plot for this sample\n",
    "    fig, ax = plt.subplots(figsize=(10, 10))\n",
    "    zone_readings_gdf_sample.plot(column='speed', markersize=5, cmap='RdYlGn', ax=ax)\n",
    "    ax.set_title('Speeds at ' + str(time_sample))\n",
    "    plt.savefig('img/' + str(time_sample) + '.png')\n",
    "    plt.close(fig)"
   ]
  },
  {
   "cell_type": "code",
   "execution_count": 11,
   "metadata": {},
   "outputs": [
    {
     "name": "stdout",
     "output_type": "stream",
     "text": [
      "Video saved as output_video.mp4\n"
     ]
    }
   ],
   "source": [
    "# Define the directory containing the images\n",
    "img_dir = 'img'\n",
    "\n",
    "# Get a list of all image files in the directory\n",
    "images = [img for img in os.listdir(img_dir) if img.endswith(\".png\")]\n",
    "images.sort()  # Ensure the images are in the correct order\n",
    "\n",
    "# Define the video file name and frame rate\n",
    "video_file = 'output_video.mp4'\n",
    "frame_rate = 5  # 1 frame per second\n",
    "\n",
    "# Read the first image to get the dimensions\n",
    "first_image_path = os.path.join(img_dir, images[0])\n",
    "frame = cv2.imread(first_image_path)\n",
    "height, width, layers = frame.shape\n",
    "\n",
    "# Define the video writer\n",
    "fourcc = cv2.VideoWriter_fourcc(*'mp4v')\n",
    "video = cv2.VideoWriter(video_file, fourcc, frame_rate, (width, height))\n",
    "\n",
    "# Add each image to the video\n",
    "for image in images:\n",
    "    image_path = os.path.join(img_dir, image)\n",
    "    frame = cv2.imread(image_path)\n",
    "    video.write(frame)\n",
    "\n",
    "# Release the video writer\n",
    "video.release()\n",
    "\n",
    "print(f\"Video saved as {video_file}\")"
   ]
  }
 ],
 "metadata": {
  "kernelspec": {
   "display_name": "geo",
   "language": "python",
   "name": "python3"
  },
  "language_info": {
   "codemirror_mode": {
    "name": "ipython",
    "version": 3
   },
   "file_extension": ".py",
   "mimetype": "text/x-python",
   "name": "python",
   "nbconvert_exporter": "python",
   "pygments_lexer": "ipython3",
   "version": "3.12.7"
  }
 },
 "nbformat": 4,
 "nbformat_minor": 2
}
