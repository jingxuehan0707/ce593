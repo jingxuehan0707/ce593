{
 "cells": [
  {
   "cell_type": "markdown",
   "metadata": {},
   "source": [
    "# Task 3: Fundamental Diagram"
   ]
  },
  {
   "cell_type": "code",
   "execution_count": 1,
   "metadata": {},
   "outputs": [],
   "source": [
    "import numpy as np\n",
    "import pandas as pd\n",
    "import matplotlib.pyplot as plt"
   ]
  },
  {
   "cell_type": "markdown",
   "metadata": {},
   "source": [
    "## 1. Define file path"
   ]
  },
  {
   "cell_type": "code",
   "execution_count": 5,
   "metadata": {},
   "outputs": [],
   "source": [
    "# Group 2 US101SB Contour\n",
    "# 10-19\n",
    "volume_contour_10_19_path = \"Group 2 US101SB/volume_contour_10-19.csv\"\n",
    "speed_contour_10_19_path = \"Group 2 US101SB/speed_contour_10-19.csv\"\n",
    "density_contour_10_19_path = \"Group 2 US101SB/density_contour_10-19.csv\"\n",
    "\n",
    "# 10-26\n",
    "volume_contour_10_26_path = \"Group 2 US101SB/volume_contour_10-26.csv\"\n",
    "speed_contour_10_26_path = \"Group 2 US101SB/speed_contour_10-26.csv\"\n",
    "density_contour_10_26_path = \"Group 2 US101SB/density_contour_10-26.csv\"\n"
   ]
  },
  {
   "cell_type": "markdown",
   "metadata": {},
   "source": [
    "## 2. Load data"
   ]
  },
  {
   "cell_type": "code",
   "execution_count": 35,
   "metadata": {},
   "outputs": [],
   "source": [
    "# 10-19\n",
    "volume_contour_10_19 = pd.read_csv(volume_contour_10_19_path)\n",
    "speed_contour_10_19 = pd.read_csv(speed_contour_10_19_path)\n",
    "density_contour_10_19 = pd.read_csv(density_contour_10_19_path)\n",
    "\n",
    "# 10-26\n",
    "speed_contour_10_26 = pd.read_csv(volume_contour_10_26_path)\n",
    "speed_contour_10_26 = pd.read_csv(speed_contour_10_26_path)\n",
    "density_contour_10_26 = pd.read_csv(density_contour_10_26_path)"
   ]
  },
  {
   "cell_type": "markdown",
   "metadata": {},
   "source": [
    "## 3. Explore the speed contour"
   ]
  },
  {
   "cell_type": "code",
   "execution_count": 36,
   "metadata": {},
   "outputs": [],
   "source": [
    "# Set date as index\n",
    "speed_contour_10_26.set_index('date', inplace=True)"
   ]
  },
  {
   "cell_type": "code",
   "execution_count": 39,
   "metadata": {},
   "outputs": [
    {
     "data": {
      "text/plain": [
       "Index(['402136', '402737', '403316', '409720', '410545'], dtype='object')"
      ]
     },
     "execution_count": 39,
     "metadata": {},
     "output_type": "execute_result"
    }
   ],
   "source": [
    "# Identity the column list with values between 0 and 40\n",
    "stations = speed_contour_10_26.columns[(speed_contour_10_26.iloc[0] < 60) & (speed_contour_10_26.iloc[0] > 0)]\n",
    "stations"
   ]
  }
 ],
 "metadata": {
  "kernelspec": {
   "display_name": "geo",
   "language": "python",
   "name": "python3"
  },
  "language_info": {
   "codemirror_mode": {
    "name": "ipython",
    "version": 3
   },
   "file_extension": ".py",
   "mimetype": "text/x-python",
   "name": "python",
   "nbconvert_exporter": "python",
   "pygments_lexer": "ipython3",
   "version": "3.12.7"
  }
 },
 "nbformat": 4,
 "nbformat_minor": 2
}
