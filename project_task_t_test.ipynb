{
 "cells": [
  {
   "cell_type": "markdown",
   "metadata": {},
   "source": [
    "# Task: T-test, normal vs evacuation"
   ]
  },
  {
   "cell_type": "code",
   "execution_count": 211,
   "metadata": {},
   "outputs": [],
   "source": [
    "import pandas as pd\n",
    "import math"
   ]
  },
  {
   "cell_type": "code",
   "execution_count": 212,
   "metadata": {},
   "outputs": [],
   "source": [
    "v_fitted_10_19_path = 'Group 2 US101SB/v_fitted_10-19.csv'\n",
    "v_fitted_10_26_path = 'Group 2 US101SB/v_fitted_10-26.csv'\n",
    "v_fitted_0831_0901_path = 'SR_91_Bottleneck_B_150-200/v_fitted_0831-0901.csv'\n",
    "v_fitted_0907_0908_path = 'SR_91_Bottleneck_B_150-200/v_fitted_0907-0908.csv'"
   ]
  },
  {
   "cell_type": "code",
   "execution_count": 213,
   "metadata": {},
   "outputs": [],
   "source": [
    "v_fitted_10_19 = pd.read_csv(v_fitted_10_19_path)\n",
    "v_fitted_10_26 = pd.read_csv(v_fitted_10_26_path)\n",
    "v_fitted_0831_0901 = pd.read_csv(v_fitted_0831_0901_path)\n",
    "v_fitted_0907_0908 = pd.read_csv(v_fitted_0907_0908_path)"
   ]
  },
  {
   "cell_type": "markdown",
   "metadata": {},
   "source": [
    "## US101"
   ]
  },
  {
   "cell_type": "code",
   "execution_count": 214,
   "metadata": {},
   "outputs": [
    {
     "data": {
      "text/html": [
       "<div>\n",
       "<style scoped>\n",
       "    .dataframe tbody tr th:only-of-type {\n",
       "        vertical-align: middle;\n",
       "    }\n",
       "\n",
       "    .dataframe tbody tr th {\n",
       "        vertical-align: top;\n",
       "    }\n",
       "\n",
       "    .dataframe thead th {\n",
       "        text-align: right;\n",
       "    }\n",
       "</style>\n",
       "<table border=\"1\" class=\"dataframe\">\n",
       "  <thead>\n",
       "    <tr style=\"text-align: right;\">\n",
       "      <th></th>\n",
       "      <th>date</th>\n",
       "      <th>v_observed</th>\n",
       "      <th>k_observed</th>\n",
       "      <th>greenshields</th>\n",
       "      <th>drake</th>\n",
       "      <th>five_pl</th>\n",
       "      <th>s3</th>\n",
       "    </tr>\n",
       "  </thead>\n",
       "  <tbody>\n",
       "    <tr>\n",
       "      <th>3290</th>\n",
       "      <td>10-26</td>\n",
       "      <td>68.000000</td>\n",
       "      <td>2.368667</td>\n",
       "      <td>64.003907</td>\n",
       "      <td>66.320362</td>\n",
       "      <td>66.647605</td>\n",
       "      <td>66.679487</td>\n",
       "    </tr>\n",
       "    <tr>\n",
       "      <th>6</th>\n",
       "      <td>10-19</td>\n",
       "      <td>65.000000</td>\n",
       "      <td>0.366667</td>\n",
       "      <td>66.949412</td>\n",
       "      <td>67.220399</td>\n",
       "      <td>20.602775</td>\n",
       "      <td>67.226220</td>\n",
       "    </tr>\n",
       "    <tr>\n",
       "      <th>920</th>\n",
       "      <td>10-19</td>\n",
       "      <td>68.000000</td>\n",
       "      <td>4.282667</td>\n",
       "      <td>63.993101</td>\n",
       "      <td>66.436678</td>\n",
       "      <td>18.813160</td>\n",
       "      <td>67.226063</td>\n",
       "    </tr>\n",
       "    <tr>\n",
       "      <th>60</th>\n",
       "      <td>10-19</td>\n",
       "      <td>65.000000</td>\n",
       "      <td>0.410667</td>\n",
       "      <td>66.916195</td>\n",
       "      <td>67.218918</td>\n",
       "      <td>20.515093</td>\n",
       "      <td>67.226220</td>\n",
       "    </tr>\n",
       "    <tr>\n",
       "      <th>2435</th>\n",
       "      <td>10-19</td>\n",
       "      <td>62.333333</td>\n",
       "      <td>14.916000</td>\n",
       "      <td>55.965666</td>\n",
       "      <td>58.250552</td>\n",
       "      <td>18.813003</td>\n",
       "      <td>63.650097</td>\n",
       "    </tr>\n",
       "  </tbody>\n",
       "</table>\n",
       "</div>"
      ],
      "text/plain": [
       "       date  v_observed  k_observed  greenshields      drake    five_pl  \\\n",
       "3290  10-26   68.000000    2.368667     64.003907  66.320362  66.647605   \n",
       "6     10-19   65.000000    0.366667     66.949412  67.220399  20.602775   \n",
       "920   10-19   68.000000    4.282667     63.993101  66.436678  18.813160   \n",
       "60    10-19   65.000000    0.410667     66.916195  67.218918  20.515093   \n",
       "2435  10-19   62.333333   14.916000     55.965666  58.250552  18.813003   \n",
       "\n",
       "             s3  \n",
       "3290  66.679487  \n",
       "6     67.226220  \n",
       "920   67.226063  \n",
       "60    67.226220  \n",
       "2435  63.650097  "
      ]
     },
     "execution_count": 214,
     "metadata": {},
     "output_type": "execute_result"
    }
   ],
   "source": [
    "v_fitted = pd.concat([v_fitted_10_19, v_fitted_10_26], ignore_index=True)\n",
    "v_fitted.sample(5)"
   ]
  },
  {
   "cell_type": "code",
   "execution_count": 215,
   "metadata": {},
   "outputs": [
    {
     "name": "stdout",
     "output_type": "stream",
     "text": [
      "The p-value for the t-test of the greenshields model is 5.127328e-127.\n",
      "The p-value for the t-test of the drake model is 2.047672e-89.\n",
      "The p-value for the t-test of the five_pl model is 0.000000e+00.\n",
      "The p-value for the t-test of the s3 model is 3.139047e-90.\n"
     ]
    }
   ],
   "source": [
    "from scipy.stats import ttest_ind\n",
    "model_list = ['greenshields', 'drake', 'five_pl', 's3']\n",
    "for model in model_list:\n",
    "    v_fitted_model = v_fitted[['date', model]]\n",
    "    # Perform the t-test, if there is a significant difference between the dates.\n",
    "    v_fitted_model_normal = v_fitted_model[v_fitted_model['date'] == '10-19'][model]\n",
    "    v_fitted_model_evacuation = v_fitted_model[v_fitted_model['date'] == '10-26'][model]\n",
    "    # Perform the t-test\n",
    "    t_stat, p_val = ttest_ind(v_fitted_model_normal, v_fitted_model_evacuation, equal_var=False)\n",
    "    print(f'The p-value for the t-test of the {model} model is {p_val:2e}.')\n"
   ]
  },
  {
   "cell_type": "markdown",
   "metadata": {},
   "source": [
    "## SR91"
   ]
  },
  {
   "cell_type": "code",
   "execution_count": 216,
   "metadata": {},
   "outputs": [
    {
     "data": {
      "text/html": [
       "<div>\n",
       "<style scoped>\n",
       "    .dataframe tbody tr th:only-of-type {\n",
       "        vertical-align: middle;\n",
       "    }\n",
       "\n",
       "    .dataframe tbody tr th {\n",
       "        vertical-align: top;\n",
       "    }\n",
       "\n",
       "    .dataframe thead th {\n",
       "        text-align: right;\n",
       "    }\n",
       "</style>\n",
       "<table border=\"1\" class=\"dataframe\">\n",
       "  <thead>\n",
       "    <tr style=\"text-align: right;\">\n",
       "      <th></th>\n",
       "      <th>date</th>\n",
       "      <th>v_observed</th>\n",
       "      <th>k_observed</th>\n",
       "      <th>greenshields</th>\n",
       "      <th>drake</th>\n",
       "      <th>five_pl</th>\n",
       "      <th>s3</th>\n",
       "    </tr>\n",
       "  </thead>\n",
       "  <tbody>\n",
       "    <tr>\n",
       "      <th>1497</th>\n",
       "      <td>0907-0908</td>\n",
       "      <td>76.600000</td>\n",
       "      <td>20.9</td>\n",
       "      <td>61.216086</td>\n",
       "      <td>61.846103</td>\n",
       "      <td>68.942724</td>\n",
       "      <td>67.667994</td>\n",
       "    </tr>\n",
       "    <tr>\n",
       "      <th>2035</th>\n",
       "      <td>0907-0908</td>\n",
       "      <td>31.800000</td>\n",
       "      <td>31.9</td>\n",
       "      <td>53.848814</td>\n",
       "      <td>47.677321</td>\n",
       "      <td>49.044393</td>\n",
       "      <td>47.576930</td>\n",
       "    </tr>\n",
       "    <tr>\n",
       "      <th>2269</th>\n",
       "      <td>0907-0908</td>\n",
       "      <td>19.187500</td>\n",
       "      <td>49.5</td>\n",
       "      <td>42.061178</td>\n",
       "      <td>25.094428</td>\n",
       "      <td>20.721098</td>\n",
       "      <td>23.258541</td>\n",
       "    </tr>\n",
       "    <tr>\n",
       "      <th>1468</th>\n",
       "      <td>0907-0908</td>\n",
       "      <td>71.128205</td>\n",
       "      <td>20.9</td>\n",
       "      <td>61.216086</td>\n",
       "      <td>61.846103</td>\n",
       "      <td>68.942724</td>\n",
       "      <td>67.667994</td>\n",
       "    </tr>\n",
       "    <tr>\n",
       "      <th>549</th>\n",
       "      <td>0907-0908</td>\n",
       "      <td>78.666667</td>\n",
       "      <td>3.3</td>\n",
       "      <td>73.003721</td>\n",
       "      <td>74.847856</td>\n",
       "      <td>74.975587</td>\n",
       "      <td>75.211698</td>\n",
       "    </tr>\n",
       "  </tbody>\n",
       "</table>\n",
       "</div>"
      ],
      "text/plain": [
       "           date  v_observed  k_observed  greenshields      drake    five_pl  \\\n",
       "1497  0907-0908   76.600000        20.9     61.216086  61.846103  68.942724   \n",
       "2035  0907-0908   31.800000        31.9     53.848814  47.677321  49.044393   \n",
       "2269  0907-0908   19.187500        49.5     42.061178  25.094428  20.721098   \n",
       "1468  0907-0908   71.128205        20.9     61.216086  61.846103  68.942724   \n",
       "549   0907-0908   78.666667         3.3     73.003721  74.847856  74.975587   \n",
       "\n",
       "             s3  \n",
       "1497  67.667994  \n",
       "2035  47.576930  \n",
       "2269  23.258541  \n",
       "1468  67.667994  \n",
       "549   75.211698  "
      ]
     },
     "execution_count": 216,
     "metadata": {},
     "output_type": "execute_result"
    }
   ],
   "source": [
    "v_fitted = pd.concat([v_fitted_0831_0901, v_fitted_0907_0908], ignore_index=True)\n",
    "v_fitted.sample(5)"
   ]
  },
  {
   "cell_type": "code",
   "execution_count": 217,
   "metadata": {},
   "outputs": [
    {
     "name": "stdout",
     "output_type": "stream",
     "text": [
      "The p-value for the t-test of the greenshields model is 2.005825e-272.\n",
      "The p-value for the t-test of the drake model is 1.365156e-267.\n",
      "The p-value for the t-test of the five_pl model is 6.448733e-204.\n",
      "The p-value for the t-test of the s3 model is 6.805086e-210.\n"
     ]
    },
    {
     "name": "stderr",
     "output_type": "stream",
     "text": [
      "/opt/anaconda3/envs/geo/lib/python3.12/site-packages/scipy/stats/_axis_nan_policy.py:573: RuntimeWarning: Precision loss occurred in moment calculation due to catastrophic cancellation. This occurs when the data are nearly identical. Results may be unreliable.\n",
      "  res = hypotest_fun_out(*samples, **kwds)\n"
     ]
    }
   ],
   "source": [
    "from scipy.stats import ttest_ind\n",
    "model_list = ['greenshields', 'drake', 'five_pl', 's3']\n",
    "for model in model_list:\n",
    "    v_fitted_model = v_fitted[['date', model]]\n",
    "    # Perform the t-test, if there is a significant difference between the dates.\n",
    "    v_fitted_model_normal = v_fitted_model[v_fitted_model['date'] == '0831-0901'][model]\n",
    "    v_fitted_model_evacuation = v_fitted_model[v_fitted_model['date'] == '0907-0908'][model]\n",
    "    # Perform the t-test\n",
    "    t_stat, p_val = ttest_ind(v_fitted_model_normal, v_fitted_model_evacuation, equal_var=False)\n",
    "    print(f'The p-value for the t-test of the {model} model is {p_val:2e}.')"
   ]
  },
  {
   "cell_type": "markdown",
   "metadata": {},
   "source": [
    "# Task: MSE by density range"
   ]
  },
  {
   "cell_type": "markdown",
   "metadata": {},
   "source": [
    "## US101"
   ]
  },
  {
   "cell_type": "code",
   "execution_count": 218,
   "metadata": {},
   "outputs": [
    {
     "data": {
      "text/html": [
       "<div>\n",
       "<style scoped>\n",
       "    .dataframe tbody tr th:only-of-type {\n",
       "        vertical-align: middle;\n",
       "    }\n",
       "\n",
       "    .dataframe tbody tr th {\n",
       "        vertical-align: top;\n",
       "    }\n",
       "\n",
       "    .dataframe thead th {\n",
       "        text-align: right;\n",
       "    }\n",
       "</style>\n",
       "<table border=\"1\" class=\"dataframe\">\n",
       "  <thead>\n",
       "    <tr style=\"text-align: right;\">\n",
       "      <th></th>\n",
       "      <th>date</th>\n",
       "      <th>v_observed</th>\n",
       "      <th>k_observed</th>\n",
       "      <th>greenshields</th>\n",
       "      <th>drake</th>\n",
       "      <th>five_pl</th>\n",
       "      <th>s3</th>\n",
       "    </tr>\n",
       "  </thead>\n",
       "  <tbody>\n",
       "    <tr>\n",
       "      <th>3856</th>\n",
       "      <td>10-26</td>\n",
       "      <td>70.428571</td>\n",
       "      <td>6.116000</td>\n",
       "      <td>59.765657</td>\n",
       "      <td>64.302920</td>\n",
       "      <td>66.535335</td>\n",
       "      <td>66.462035</td>\n",
       "    </tr>\n",
       "    <tr>\n",
       "      <th>3963</th>\n",
       "      <td>10-26</td>\n",
       "      <td>63.000000</td>\n",
       "      <td>6.930000</td>\n",
       "      <td>58.845020</td>\n",
       "      <td>63.642862</td>\n",
       "      <td>66.481767</td>\n",
       "      <td>66.301279</td>\n",
       "    </tr>\n",
       "    <tr>\n",
       "      <th>1379</th>\n",
       "      <td>10-19</td>\n",
       "      <td>69.800000</td>\n",
       "      <td>7.010667</td>\n",
       "      <td>61.933649</td>\n",
       "      <td>65.131278</td>\n",
       "      <td>18.813003</td>\n",
       "      <td>67.217491</td>\n",
       "    </tr>\n",
       "    <tr>\n",
       "      <th>1546</th>\n",
       "      <td>10-19</td>\n",
       "      <td>67.526316</td>\n",
       "      <td>8.191333</td>\n",
       "      <td>61.042327</td>\n",
       "      <td>64.382625</td>\n",
       "      <td>18.813003</td>\n",
       "      <td>67.195194</td>\n",
       "    </tr>\n",
       "    <tr>\n",
       "      <th>1017</th>\n",
       "      <td>10-19</td>\n",
       "      <td>66.300000</td>\n",
       "      <td>4.810667</td>\n",
       "      <td>63.594498</td>\n",
       "      <td>66.231531</td>\n",
       "      <td>18.813016</td>\n",
       "      <td>67.225815</td>\n",
       "    </tr>\n",
       "  </tbody>\n",
       "</table>\n",
       "</div>"
      ],
      "text/plain": [
       "       date  v_observed  k_observed  greenshields      drake    five_pl  \\\n",
       "3856  10-26   70.428571    6.116000     59.765657  64.302920  66.535335   \n",
       "3963  10-26   63.000000    6.930000     58.845020  63.642862  66.481767   \n",
       "1379  10-19   69.800000    7.010667     61.933649  65.131278  18.813003   \n",
       "1546  10-19   67.526316    8.191333     61.042327  64.382625  18.813003   \n",
       "1017  10-19   66.300000    4.810667     63.594498  66.231531  18.813016   \n",
       "\n",
       "             s3  \n",
       "3856  66.462035  \n",
       "3963  66.301279  \n",
       "1379  67.217491  \n",
       "1546  67.195194  \n",
       "1017  67.225815  "
      ]
     },
     "execution_count": 218,
     "metadata": {},
     "output_type": "execute_result"
    }
   ],
   "source": [
    "v_fitted = pd.concat([v_fitted_10_19, v_fitted_10_26], ignore_index=True)\n",
    "v_fitted.sample(5)"
   ]
  },
  {
   "cell_type": "code",
   "execution_count": 219,
   "metadata": {},
   "outputs": [
    {
     "name": "stdout",
     "output_type": "stream",
     "text": [
      "k_groups\n",
      "[0, 10)      3420\n",
      "[10, 20)     1459\n",
      "[20, 30)      234\n",
      "[30, 40)      129\n",
      "[40, 50)       60\n",
      "[50, 60)       36\n",
      "[60, 70)       13\n",
      "[70, 80)        3\n",
      "[80, 90)        1\n",
      "[90, 100)       0\n",
      "Name: count, dtype: int64\n"
     ]
    }
   ],
   "source": [
    "# Create group column 'k_groups' based on range of k values\n",
    "# k_groups: 0-10, 10-20, 20-30, 30-40, 40-50, 50-60, 60-70, 70-80, 80-90, 90-100\n",
    "v_fitted['k_groups'] = pd.cut(v_fitted['k_observed'], bins=range(0, 101, 10), right=False)\n",
    "print(v_fitted['k_groups'].value_counts().sort_index())\n",
    "\n",
    "# For each k_groups, calculated the MSE for each model\n",
    "from sklearn.metrics import mean_squared_error\n",
    "model_list = ['greenshields', 'drake', 'five_pl', 's3']\n",
    "mse_list = []\n",
    "for k_group in v_fitted['k_groups'].unique():\n",
    "    v_fitted_k_group = v_fitted[v_fitted['k_groups'] == k_group]\n",
    "    for model in model_list:\n",
    "        mse = mean_squared_error(v_fitted_k_group['v_observed'], v_fitted_k_group[model])\n",
    "        mse_list.append([k_group, model, mse])\n",
    "mse_df = pd.DataFrame(mse_list, columns=['k_groups', 'model', 'mse'])\n",
    "mse_df.sample(5)\n",
    "\n",
    "# Create pivot table for the MSE values\n",
    "mse_pivot = mse_df.pivot(index='model', columns='k_groups', values='mse')\n",
    "mse_pivot.to_excel('Group 2 US101SB/mse_pivot_us101.xlsx')"
   ]
  },
  {
   "cell_type": "markdown",
   "metadata": {},
   "source": [
    "## SR91"
   ]
  },
  {
   "cell_type": "code",
   "execution_count": 220,
   "metadata": {},
   "outputs": [
    {
     "data": {
      "text/html": [
       "<div>\n",
       "<style scoped>\n",
       "    .dataframe tbody tr th:only-of-type {\n",
       "        vertical-align: middle;\n",
       "    }\n",
       "\n",
       "    .dataframe tbody tr th {\n",
       "        vertical-align: top;\n",
       "    }\n",
       "\n",
       "    .dataframe thead th {\n",
       "        text-align: right;\n",
       "    }\n",
       "</style>\n",
       "<table border=\"1\" class=\"dataframe\">\n",
       "  <thead>\n",
       "    <tr style=\"text-align: right;\">\n",
       "      <th></th>\n",
       "      <th>date</th>\n",
       "      <th>v_observed</th>\n",
       "      <th>k_observed</th>\n",
       "      <th>greenshields</th>\n",
       "      <th>drake</th>\n",
       "      <th>five_pl</th>\n",
       "      <th>s3</th>\n",
       "    </tr>\n",
       "  </thead>\n",
       "  <tbody>\n",
       "    <tr>\n",
       "      <th>257</th>\n",
       "      <td>0831-0901</td>\n",
       "      <td>78.571429</td>\n",
       "      <td>3.3</td>\n",
       "      <td>69.336469</td>\n",
       "      <td>69.336470</td>\n",
       "      <td>69.336470</td>\n",
       "      <td>69.336470</td>\n",
       "    </tr>\n",
       "    <tr>\n",
       "      <th>122</th>\n",
       "      <td>0831-0901</td>\n",
       "      <td>74.600000</td>\n",
       "      <td>2.2</td>\n",
       "      <td>69.336470</td>\n",
       "      <td>69.336470</td>\n",
       "      <td>69.336470</td>\n",
       "      <td>69.336470</td>\n",
       "    </tr>\n",
       "    <tr>\n",
       "      <th>1733</th>\n",
       "      <td>0907-0908</td>\n",
       "      <td>66.391304</td>\n",
       "      <td>25.3</td>\n",
       "      <td>58.269177</td>\n",
       "      <td>56.462768</td>\n",
       "      <td>62.889710</td>\n",
       "      <td>60.454281</td>\n",
       "    </tr>\n",
       "    <tr>\n",
       "      <th>1961</th>\n",
       "      <td>0907-0908</td>\n",
       "      <td>50.047619</td>\n",
       "      <td>28.6</td>\n",
       "      <td>56.058995</td>\n",
       "      <td>52.138168</td>\n",
       "      <td>56.461245</td>\n",
       "      <td>54.058885</td>\n",
       "    </tr>\n",
       "    <tr>\n",
       "      <th>1221</th>\n",
       "      <td>0907-0908</td>\n",
       "      <td>79.448276</td>\n",
       "      <td>15.4</td>\n",
       "      <td>64.899722</td>\n",
       "      <td>67.632627</td>\n",
       "      <td>72.828826</td>\n",
       "      <td>73.049771</td>\n",
       "    </tr>\n",
       "  </tbody>\n",
       "</table>\n",
       "</div>"
      ],
      "text/plain": [
       "           date  v_observed  k_observed  greenshields      drake    five_pl  \\\n",
       "257   0831-0901   78.571429         3.3     69.336469  69.336470  69.336470   \n",
       "122   0831-0901   74.600000         2.2     69.336470  69.336470  69.336470   \n",
       "1733  0907-0908   66.391304        25.3     58.269177  56.462768  62.889710   \n",
       "1961  0907-0908   50.047619        28.6     56.058995  52.138168  56.461245   \n",
       "1221  0907-0908   79.448276        15.4     64.899722  67.632627  72.828826   \n",
       "\n",
       "             s3  \n",
       "257   69.336470  \n",
       "122   69.336470  \n",
       "1733  60.454281  \n",
       "1961  54.058885  \n",
       "1221  73.049771  "
      ]
     },
     "execution_count": 220,
     "metadata": {},
     "output_type": "execute_result"
    }
   ],
   "source": [
    "v_fitted = pd.concat([v_fitted_0831_0901, v_fitted_0907_0908], ignore_index=True)\n",
    "v_fitted.sample(5)"
   ]
  },
  {
   "cell_type": "code",
   "execution_count": 221,
   "metadata": {},
   "outputs": [
    {
     "name": "stdout",
     "output_type": "stream",
     "text": [
      "k_groups\n",
      "[0, 10)       910\n",
      "[10, 20)      539\n",
      "[20, 30)      552\n",
      "[30, 40)      182\n",
      "[40, 50)       96\n",
      "[50, 60)       76\n",
      "[60, 70)       62\n",
      "[70, 80)       72\n",
      "[80, 90)       73\n",
      "[90, 100)      84\n",
      "[100, 110)     80\n",
      "[110, 120)     69\n",
      "[120, 130)     47\n",
      "[130, 140)     20\n",
      "[140, 150)      3\n",
      "[150, 160)      1\n",
      "Name: count, dtype: int64\n"
     ]
    }
   ],
   "source": [
    "# Create group column 'k_groups' based on range of k values\n",
    "# k_groups: 0-10, 10-20, 20-30, 30-40, 40-50, 50-60, 60-70, 70-80, 80-90, 90-100\n",
    "k_maixmum = math.floor(v_fitted['k_observed'].max())\n",
    "v_fitted['k_groups'] = pd.cut(v_fitted['k_observed'], bins=range(0, k_maixmum + 11, 10), right=False)\n",
    "print(v_fitted['k_groups'].value_counts().sort_index())\n",
    "\n",
    "# For each k_groups, calculated the MSE for each model\n",
    "from sklearn.metrics import mean_squared_error\n",
    "model_list = ['greenshields', 'drake', 'five_pl', 's3']\n",
    "mse_list = []\n",
    "for k_group in v_fitted['k_groups'].unique():\n",
    "    v_fitted_k_group = v_fitted[v_fitted['k_groups'] == k_group]\n",
    "    for model in model_list:\n",
    "        mse = mean_squared_error(v_fitted_k_group['v_observed'], v_fitted_k_group[model])\n",
    "        mse_list.append([k_group, model, mse])\n",
    "mse_df = pd.DataFrame(mse_list, columns=['k_groups', 'model', 'mse'])\n",
    "mse_df.sample(5)\n",
    "\n",
    "# Create pivot table for the MSE values\n",
    "mse_pivot = mse_df.pivot(index='model', columns='k_groups', values='mse')\n",
    "mse_pivot.to_excel('SR_91_Bottleneck_B_150-200/mse_pivot_sr91.xlsx')"
   ]
  }
 ],
 "metadata": {
  "kernelspec": {
   "display_name": "geo",
   "language": "python",
   "name": "python3"
  },
  "language_info": {
   "codemirror_mode": {
    "name": "ipython",
    "version": 3
   },
   "file_extension": ".py",
   "mimetype": "text/x-python",
   "name": "python",
   "nbconvert_exporter": "python",
   "pygments_lexer": "ipython3",
   "version": "3.12.7"
  }
 },
 "nbformat": 4,
 "nbformat_minor": 2
}
