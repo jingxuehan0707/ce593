{
 "cells": [
  {
   "cell_type": "markdown",
   "metadata": {},
   "source": [
    "# Task: T-test, normal vs evacuation"
   ]
  },
  {
   "cell_type": "code",
   "execution_count": 1,
   "metadata": {},
   "outputs": [],
   "source": [
    "import pandas as pd"
   ]
  },
  {
   "cell_type": "code",
   "execution_count": 4,
   "metadata": {},
   "outputs": [],
   "source": [
    "v_fitted_10_19_path = 'Group 2 US101SB/v_fitted_10-19.csv'\n",
    "v_fitted_10_26_path = 'Group 2 US101SB/v_fitted_10-26.csv'"
   ]
  },
  {
   "cell_type": "code",
   "execution_count": 5,
   "metadata": {},
   "outputs": [],
   "source": [
    "v_fitted_10_19 = pd.read_csv(v_fitted_10_19_path)\n",
    "v_fitted_10_26 = pd.read_csv(v_fitted_10_26_path)"
   ]
  },
  {
   "cell_type": "code",
   "execution_count": 7,
   "metadata": {},
   "outputs": [
    {
     "data": {
      "text/html": [
       "<div>\n",
       "<style scoped>\n",
       "    .dataframe tbody tr th:only-of-type {\n",
       "        vertical-align: middle;\n",
       "    }\n",
       "\n",
       "    .dataframe tbody tr th {\n",
       "        vertical-align: top;\n",
       "    }\n",
       "\n",
       "    .dataframe thead th {\n",
       "        text-align: right;\n",
       "    }\n",
       "</style>\n",
       "<table border=\"1\" class=\"dataframe\">\n",
       "  <thead>\n",
       "    <tr style=\"text-align: right;\">\n",
       "      <th></th>\n",
       "      <th>date</th>\n",
       "      <th>greenshields</th>\n",
       "      <th>drake</th>\n",
       "      <th>five_pl</th>\n",
       "      <th>s3</th>\n",
       "    </tr>\n",
       "  </thead>\n",
       "  <tbody>\n",
       "    <tr>\n",
       "      <th>3626</th>\n",
       "      <td>10-26</td>\n",
       "      <td>67.596207</td>\n",
       "      <td>68.995135</td>\n",
       "      <td>63.262918</td>\n",
       "      <td>68.923761</td>\n",
       "    </tr>\n",
       "    <tr>\n",
       "      <th>295</th>\n",
       "      <td>10-19</td>\n",
       "      <td>71.122287</td>\n",
       "      <td>71.428866</td>\n",
       "      <td>68.429675</td>\n",
       "      <td>71.091283</td>\n",
       "    </tr>\n",
       "    <tr>\n",
       "      <th>245</th>\n",
       "      <td>10-19</td>\n",
       "      <td>71.174622</td>\n",
       "      <td>71.432540</td>\n",
       "      <td>68.431880</td>\n",
       "      <td>71.148531</td>\n",
       "    </tr>\n",
       "    <tr>\n",
       "      <th>1562</th>\n",
       "      <td>10-19</td>\n",
       "      <td>67.977435</td>\n",
       "      <td>70.016360</td>\n",
       "      <td>68.294420</td>\n",
       "      <td>67.774030</td>\n",
       "    </tr>\n",
       "    <tr>\n",
       "      <th>5278</th>\n",
       "      <td>10-26</td>\n",
       "      <td>36.549856</td>\n",
       "      <td>28.486429</td>\n",
       "      <td>26.680932</td>\n",
       "      <td>26.513806</td>\n",
       "    </tr>\n",
       "  </tbody>\n",
       "</table>\n",
       "</div>"
      ],
      "text/plain": [
       "       date  greenshields      drake    five_pl         s3\n",
       "3626  10-26     67.596207  68.995135  63.262918  68.923761\n",
       "295   10-19     71.122287  71.428866  68.429675  71.091283\n",
       "245   10-19     71.174622  71.432540  68.431880  71.148531\n",
       "1562  10-19     67.977435  70.016360  68.294420  67.774030\n",
       "5278  10-26     36.549856  28.486429  26.680932  26.513806"
      ]
     },
     "execution_count": 7,
     "metadata": {},
     "output_type": "execute_result"
    }
   ],
   "source": [
    "v_fitted = pd.concat([v_fitted_10_19, v_fitted_10_26], ignore_index=True)\n",
    "v_fitted.sample(5)"
   ]
  },
  {
   "cell_type": "code",
   "execution_count": 18,
   "metadata": {},
   "outputs": [
    {
     "name": "stdout",
     "output_type": "stream",
     "text": [
      "The p-value for the t-test of the greenshields model is 5.576174e-182.\n",
      "The p-value for the t-test of the drake model is 7.280806e-160.\n",
      "The p-value for the t-test of the five_pl model is 0.000000e+00.\n",
      "The p-value for the t-test of the s3 model is 7.736046e-149.\n"
     ]
    }
   ],
   "source": [
    "from scipy.stats import ttest_ind\n",
    "model_list = ['greenshields', 'drake', 'five_pl', 's3']\n",
    "for model in model_list:\n",
    "    v_fitted_model = v_fitted[['date', model]]\n",
    "    # Perform the t-test, if there is a significant difference between the dates.\n",
    "    v_fitted_model_normal = v_fitted_model[v_fitted_model['date'] == '10-19'][model]\n",
    "    v_fitted_model_evacuation = v_fitted_model[v_fitted_model['date'] == '10-26'][model]\n",
    "    # Perform the t-test\n",
    "    t_stat, p_val = ttest_ind(v_fitted_model_normal, v_fitted_model_evacuation, equal_var=False)\n",
    "    print(f'The p-value for the t-test of the {model} model is {p_val:2e}.')\n"
   ]
  },
  {
   "cell_type": "code",
   "execution_count": null,
   "metadata": {},
   "outputs": [],
   "source": []
  }
 ],
 "metadata": {
  "kernelspec": {
   "display_name": "geo",
   "language": "python",
   "name": "python3"
  },
  "language_info": {
   "codemirror_mode": {
    "name": "ipython",
    "version": 3
   },
   "file_extension": ".py",
   "mimetype": "text/x-python",
   "name": "python",
   "nbconvert_exporter": "python",
   "pygments_lexer": "ipython3",
   "version": "3.12.7"
  }
 },
 "nbformat": 4,
 "nbformat_minor": 2
}
